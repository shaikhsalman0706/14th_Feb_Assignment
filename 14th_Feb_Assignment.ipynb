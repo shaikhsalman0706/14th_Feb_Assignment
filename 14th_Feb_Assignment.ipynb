{
 "cells": [
  {
   "cell_type": "markdown",
   "id": "52b97645",
   "metadata": {},
   "source": [
    "### 1. What is multithreading in python? Why is it used? Name the module used to handle threads in python."
   ]
  },
  {
   "cell_type": "markdown",
   "id": "e97a7d42",
   "metadata": {},
   "source": [
    "#### Multithreading in Python is a technique where multiple threads (smaller units of a process) run concurrently within a single process. It is used to improve the performance of applications by allowing multiple tasks to be executed simultaneously.\n",
    "\n",
    "#### The \"threading\" module in Python is used to handle threads. It provides a simple way to create, start, and manage threads."
   ]
  },
  {
   "cell_type": "markdown",
   "id": "f9714ec6",
   "metadata": {},
   "source": [
    "### 2. Why threading module used? Write the use of the following functions\n",
    "### a. activeCount()\n",
    "### b. currentThread()\n",
    "### c. enumerate()"
   ]
  },
  {
   "cell_type": "markdown",
   "id": "c83d7218",
   "metadata": {},
   "source": [
    "#### The threading module is used to create, manage and control threads in Python. It provides a way to run multiple threads concurrently within a single process, allowing for efficient utilization of system resources and better performance of the application.\n",
    "\n",
    "#### Here are the use cases of the following functions in the threading module:\n",
    "\n",
    "#### a. activeCount(): This function is used to return the number of currently active thread objects in the caller's thread control. It is a useful method to check if all the threads have completed their execution before proceeding to the next step in the program.\n",
    "\n",
    "#### b. currentThread(): This function returns a reference to the thread object of the current thread. It is useful for getting information about the current thread, such as its name or ID.\n",
    "\n",
    "#### c. enumerate(): This function returns a list of all thread objects in the caller's thread control. It is useful for getting information about all threads running in the program, such as their names or statuses. This function can be used to check which threads are active and which are not."
   ]
  },
  {
   "cell_type": "markdown",
   "id": "15e091a2",
   "metadata": {},
   "source": [
    "### 3. Explain the following functions\n",
    "### a. run()\n",
    "### b. start()\n",
    "### c. join()\n",
    "### d. isAlive()"
   ]
  },
  {
   "cell_type": "markdown",
   "id": "73bce24a",
   "metadata": {},
   "source": [
    "#### In Python's threading module, the following functions are related to the execution and management of threads:\n",
    "\n",
    "#### a. run(): This function is called when a thread is started using the start() method. It is the method that is executed in the new thread. To use the run() method directly, the thread should not be started with start(). Instead, it should be executed in the current thread using the run() method.\n",
    "\n",
    "#### b. start(): This method is used to start a new thread. It calls the run() method in a new thread of execution. When start() is called, a new thread is created and the run() method is executed in that thread.\n",
    "\n",
    "#### c. join(): This method is used to wait for a thread to complete its execution. When join() is called, the current thread is blocked until the thread being waited for completes its execution.\n",
    "\n",
    "#### d. isAlive(): This method is used to check if a thread is currently executing. It returns True if the thread is still running and False otherwise. This method is useful for determining the status of a thread, especially when waiting for a thread to complete using the join() method."
   ]
  },
  {
   "cell_type": "markdown",
   "id": "8adb2eb2",
   "metadata": {},
   "source": [
    "### 4. Write a python program to create two threads. Thread one must print the list of squares and thread two must print the list of cubes."
   ]
  },
  {
   "cell_type": "code",
   "execution_count": 1,
   "id": "f765e481",
   "metadata": {},
   "outputs": [
    {
     "name": "stdout",
     "output_type": "stream",
     "text": [
      "1\n",
      "4\n",
      "9\n",
      "16\n",
      "25\n",
      "36\n",
      "49\n",
      "64\n",
      "81\n",
      "100\n",
      "1\n",
      "8\n",
      "27\n",
      "64\n",
      "125\n",
      "216\n",
      "343\n",
      "512\n",
      "729\n",
      "1000\n",
      "Done!\n"
     ]
    }
   ],
   "source": [
    "import threading\n",
    "\n",
    "def print_squares():\n",
    "    for i in range(1, 11):\n",
    "        print(i*i)\n",
    "\n",
    "def print_cubes():\n",
    "    for i in range(1, 11):\n",
    "        print(i*i*i)\n",
    "\n",
    "# create two threads\n",
    "t1 = threading.Thread(target=print_squares)\n",
    "t2 = threading.Thread(target=print_cubes)\n",
    "\n",
    "# start the threads\n",
    "t1.start()\n",
    "t2.start()\n",
    "\n",
    "# wait for the threads to finish\n",
    "t1.join()\n",
    "t2.join()\n",
    "\n",
    "print(\"Done!\")"
   ]
  },
  {
   "cell_type": "markdown",
   "id": "30d6ddbd",
   "metadata": {},
   "source": [
    "### 5. State advantages and disadvantages of multithreading."
   ]
  },
  {
   "cell_type": "markdown",
   "id": "89a7c5ce",
   "metadata": {},
   "source": [
    "#### Multithreading has several advantages and disadvantages:\n",
    "\n",
    "#### Advantages:\n",
    "\n",
    "#### Increased performance: Multithreading can improve the performance of a program by allowing multiple threads to execute simultaneously, taking advantage of the available processing power of the system.\n",
    "\n",
    "#### Responsiveness: Multithreading can make the user interface of a program more responsive, as tasks can be offloaded to a separate thread, freeing up the main thread to handle user input and other tasks.\n",
    "\n",
    "#### Resource sharing: Multithreading allows for efficient sharing of system resources, such as memory and I/O devices, between different threads.\n",
    "\n",
    "#### Simplified design: Multithreading can simplify the design of complex applications by breaking them down into smaller, more manageable threads that can be developed and tested separately.\n",
    "\n",
    "#### Disadvantages:\n",
    "\n",
    "#### Synchronization issues: Multithreading can introduce synchronization issues, such as race conditions and deadlocks, which can be difficult to debug and fix.\n",
    "\n",
    "#### Increased complexity: Multithreading can make the code more complex and difficult to understand, especially when dealing with shared data structures and synchronization mechanisms.\n",
    "\n",
    "#### Resource overhead: Multithreading can have a significant overhead in terms of memory and processing resources, especially when dealing with many threads.\n",
    "\n",
    "#### Debugging difficulties: Debugging multithreaded programs can be difficult and time-consuming, as problems may only occur under certain conditions or at certain times, making them difficult to reproduce and diagnose."
   ]
  },
  {
   "cell_type": "markdown",
   "id": "f6399cee",
   "metadata": {},
   "source": [
    "### 6. Explain deadlocks and race conditions."
   ]
  },
  {
   "cell_type": "markdown",
   "id": "1f3bfd9b",
   "metadata": {},
   "source": [
    "#### Deadlocks and race conditions are two common synchronization issues that can occur in multithreaded programs.\n",
    "\n",
    "#### Deadlock occurs when two or more threads are blocked, each waiting for the other to release a resource, resulting in a standstill or a \"deadlock\". Deadlock can occur when multiple threads attempt to acquire multiple locks in a different order, leading to a situation where one thread is holding a lock that another thread needs, and vice versa. Deadlocks can be difficult to detect and debug, and they can lead to the program becoming unresponsive.\n",
    "\n",
    "#### Race conditions occur when two or more threads access a shared resource simultaneously, and the final outcome of the program depends on the order in which the threads execute. Race conditions can occur when multiple threads access a shared resource without proper synchronization mechanisms in place. The order in which the threads access the resource can lead to unpredictable and incorrect results. Race conditions can be difficult to detect and reproduce, and they can lead to subtle bugs in the program.\n",
    "\n",
    "#### To avoid deadlocks and race conditions, it is important to use proper synchronization mechanisms, such as locks, semaphores, and barriers, to ensure that threads access shared resources in a mutually exclusive and ordered manner. Additionally, it is important to design the program to minimize the amount of shared resources, and to carefully consider the order in which locks are acquired and released to avoid potential deadlock situations."
   ]
  },
  {
   "cell_type": "code",
   "execution_count": null,
   "id": "9646a27c",
   "metadata": {},
   "outputs": [],
   "source": []
  }
 ],
 "metadata": {
  "kernelspec": {
   "display_name": "Python 3 (ipykernel)",
   "language": "python",
   "name": "python3"
  },
  "language_info": {
   "codemirror_mode": {
    "name": "ipython",
    "version": 3
   },
   "file_extension": ".py",
   "mimetype": "text/x-python",
   "name": "python",
   "nbconvert_exporter": "python",
   "pygments_lexer": "ipython3",
   "version": "3.9.13"
  }
 },
 "nbformat": 4,
 "nbformat_minor": 5
}
